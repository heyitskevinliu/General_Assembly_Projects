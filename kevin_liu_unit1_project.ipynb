{
 "cells": [
  {
   "cell_type": "markdown",
   "metadata": {},
   "source": [
    "<img src=\"http://imgur.com/1ZcRyrc.png\" style=\"float: left; margin: 20px; height: 55px\">\n",
    "\n",
    "# Project 1: Python Coding Exercises\n",
    "\n",
    "_Authors: Joseph Nelson (DC) _\n",
    "\n",
    "---"
   ]
  },
  {
   "cell_type": "markdown",
   "metadata": {},
   "source": [
    "The following code challenges are drawn from common exercises used in technical interviews.\n",
    "\n",
    "Please note that there may be several ways to approach each challenge. If you get stuck, try mapping out your approach in pseudocode first. Finally, while solutions to problems like these may be found online, remember that if you copy/paste code that you can't explain, you'll be missing out on the point of the project. The only way to truly learn a new skill is through practice, trial, and error - we can only help you improve by understanding where you are having trouble."
   ]
  },
  {
   "cell_type": "markdown",
   "metadata": {},
   "source": [
    "### Challenge 1: Largest Palindrome\n",
    "A palindromic number reads the same both ways. For example, 1234321 is a palindrome. The largest palindrome made from the product of two two-digit numbers is 9009 = 91 × 99. Find the largest palindrome made from the product of two three-digit numbers. Afterward, write a brief explanation walking through your code's logic in markdown."
   ]
  },
  {
   "cell_type": "code",
   "execution_count": 1,
   "metadata": {},
   "outputs": [
    {
     "name": "stdout",
     "output_type": "stream",
     "text": [
      "906609\n"
     ]
    }
   ],
   "source": [
    "#This function below checks to see if the number is a palindrome. \n",
    "#It takes the inverse of x with the formula 'str(x)[::-1]' \n",
    "#and sees if it is equal to the original string, then reutrns a True/False value.\n",
    "def palindrome_check(x):\n",
    "    return str(x) == str(x)[::-1]\n",
    "\n",
    "#Creating a list called all_palindromes\n",
    "all_palindromes=[]\n",
    "\n",
    "#Multiplies every number from 100-999 to each other and if it is a palindrome, \n",
    "#it will get added to the all_palindromes list.\n",
    "#After adding all possble palindromes to the list, it will print the highest palindrome in the list\n",
    "for first_num in range(100,1000):\n",
    "    for second_num in range(100,1000):\n",
    "        item = first_num*second_num\n",
    "        if palindrome_check(item):\n",
    "            all_palindromes.append(item)\n",
    "print(max(all_palindromes))"
   ]
  },
  {
   "cell_type": "markdown",
   "metadata": {},
   "source": []
  },
  {
   "cell_type": "markdown",
   "metadata": {},
   "source": [
    "\n",
    "### Challenge 2: Summation of Primes\n",
    "The sum of the primes below 10 is 2 + 3 + 5 + 7 = 17. Find the sum of all the primes below 2,000. Afterward, write a brief explanation walking through your code's logic in markdown."
   ]
  },
  {
   "cell_type": "code",
   "execution_count": 2,
   "metadata": {},
   "outputs": [
    {
     "name": "stdout",
     "output_type": "stream",
     "text": [
      "277050\n"
     ]
    }
   ],
   "source": [
    "#This function checks to see if the number is prime.\n",
    "#If it is a prime number, it will return true, if not, it returns false\n",
    "def prime_check(x):\n",
    "    for i in range(2, number):\n",
    "        if (number % i) == 0:\n",
    "            return False\n",
    "    else:\n",
    "        return True\n",
    "\n",
    "#This function adds all the numbers in a list\n",
    "def sum_list(z):\n",
    "    sum = 0\n",
    "    for x in z:\n",
    "        sum += x\n",
    "    return sum\n",
    "\n",
    "#List to store all prime numbers\n",
    "all_primes=[]\n",
    "\n",
    "#For loop that tests the prime_check function on all numbers with in the range\n",
    "#If the prime_check comes back as true, it gets added to the all_primes list\n",
    "for number in range(2,2000):\n",
    "    if prime_check(number):\n",
    "        all_primes.append(number)\n",
    "print(sum_list(all_primes))"
   ]
  },
  {
   "cell_type": "markdown",
   "metadata": {},
   "source": []
  },
  {
   "cell_type": "markdown",
   "metadata": {},
   "source": [
    "### Challenge 3: Multiples of 3 and 5\n",
    "If we list all of the natural numbers below 10 that are multiples of 3 or 5, we get 3, 5, 6, and 9. The sum of these multiples is 23. Find the sum of all the multiples of 3 or 5 below 1,000. Afterward, write a brief explanation walking through your code's logic in markdown."
   ]
  },
  {
   "cell_type": "code",
   "execution_count": 3,
   "metadata": {},
   "outputs": [
    {
     "name": "stdout",
     "output_type": "stream",
     "text": [
      "234168\n"
     ]
    }
   ],
   "source": [
    "#This function checks to see if the number is a multiple of 3 or 5\n",
    "#If it is, it returns True, if it is not, it returns False\n",
    "def multiple_check(x):\n",
    "    if x % 3 == 0 or x % 5 == 0:\n",
    "        return True\n",
    "    else:\n",
    "        return False\n",
    "\n",
    "#This function adds all the numbers in a list\n",
    "def sum_list(z):\n",
    "    sum = 0\n",
    "    for x in z:\n",
    "        sum += x\n",
    "    return sum\n",
    "\n",
    "#List to store all multiples of 3 or 5\n",
    "three_five =[]\n",
    "\n",
    "#For loop that tests the multiple_check function on all numbers with in the range\n",
    "#If the multiple_check comes back as true, it gets added to the three_five list\n",
    "for number in range(1,1001):\n",
    "    if multiple_check(number):\n",
    "        three_five.append(number)\n",
    "print(sum_list(three_five))\n"
   ]
  },
  {
   "cell_type": "markdown",
   "metadata": {},
   "source": []
  },
  {
   "cell_type": "markdown",
   "metadata": {},
   "source": [
    "### Challenge 4: String Compressor\n",
    "Implement a method to perform basic string compression using the counts of repeated characters. (This is called run-length encoding.) For example, the string \"aabcccccaaa\" would become a2b1c5a3. If the “compressed” string would not become smaller than the original string, your method should return the original string. You can assume the string has only uppercase and lowercase letters (a–z). Specify whether your solution is case sensitive or case insensitive and what you would need to change to make it the other. Afterward, write a brief explanation walking through your code's logic in markdown."
   ]
  },
  {
   "cell_type": "code",
   "execution_count": 22,
   "metadata": {},
   "outputs": [
    {
     "name": "stdout",
     "output_type": "stream",
     "text": [
      "a2b1c5a3\n",
      "a18\n",
      "hithere\n"
     ]
    }
   ],
   "source": [
    "#Creating a function for string_compressor\n",
    "def string_compressor(x):\n",
    "    compressed_word = \"\"\n",
    "    count_letter = \"\"\n",
    "    count = 0\n",
    "    \n",
    "    #Loops through each letter in the string\n",
    "    for letter in x:\n",
    "        #Only occurs if there are repeat letters immediately after each other\n",
    "        if letter == count_letter:\n",
    "            count += 1\n",
    "        else:\n",
    "            #Adds the letter and the count to compressed_word and then resets the sequence\n",
    "            if count > 0:\n",
    "                compressed_word += count_letter + str(count)\n",
    "            count_letter = letter\n",
    "            count = 1\n",
    "    #Concatenantes the last letter and count to compressed_word\n",
    "    compressed_word += count_letter + str(count)\n",
    "    \n",
    "    #If the length of the new word is less than the original word, \n",
    "    #this will write the compressed word, if it is not, it gives the original word\n",
    "    if len(compressed_word) < len(x):\n",
    "        return compressed_word\n",
    "    else:\n",
    "        return x\n",
    "\n",
    "print (string_compressor('aabcccccaaa'))\n",
    "print (string_compressor('aaaaaaaaaaaaaaaaaa'))\n",
    "print (string_compressor('hithere'))"
   ]
  },
  {
   "cell_type": "code",
   "execution_count": null,
   "metadata": {},
   "outputs": [],
   "source": []
  },
  {
   "cell_type": "markdown",
   "metadata": {},
   "source": []
  },
  {
   "cell_type": "markdown",
   "metadata": {},
   "source": [
    "### Challenge 5: FizzBuzz\n",
    "\n",
    "Write a program that prints all of the numbers from 1 to 100. For multiples of 3, instead of the number, print \"Fizz;\" for multiples of 5, print \"Buzz.\" For numbers that are multiples of both 3 and 5, print \"FizzBuzz.\" Afterward, write a brief explanation walking through your code's logic in markdown."
   ]
  },
  {
   "cell_type": "code",
   "execution_count": 4,
   "metadata": {},
   "outputs": [
    {
     "name": "stdout",
     "output_type": "stream",
     "text": [
      "1\n",
      "2\n",
      "Fizz\n",
      "4\n",
      "Buzz\n",
      "Fizz\n",
      "7\n",
      "8\n",
      "Fizz\n",
      "Buzz\n",
      "11\n",
      "Fizz\n",
      "13\n",
      "14\n",
      "FizzBuzz\n",
      "16\n",
      "17\n",
      "Fizz\n",
      "19\n",
      "Buzz\n",
      "Fizz\n",
      "22\n",
      "23\n",
      "Fizz\n",
      "Buzz\n",
      "26\n",
      "Fizz\n",
      "28\n",
      "29\n",
      "FizzBuzz\n",
      "31\n",
      "32\n",
      "Fizz\n",
      "34\n",
      "Buzz\n",
      "Fizz\n",
      "37\n",
      "38\n",
      "Fizz\n",
      "Buzz\n",
      "41\n",
      "Fizz\n",
      "43\n",
      "44\n",
      "FizzBuzz\n",
      "46\n",
      "47\n",
      "Fizz\n",
      "49\n",
      "Buzz\n",
      "Fizz\n",
      "52\n",
      "53\n",
      "Fizz\n",
      "Buzz\n",
      "56\n",
      "Fizz\n",
      "58\n",
      "59\n",
      "FizzBuzz\n",
      "61\n",
      "62\n",
      "Fizz\n",
      "64\n",
      "Buzz\n",
      "Fizz\n",
      "67\n",
      "68\n",
      "Fizz\n",
      "Buzz\n",
      "71\n",
      "Fizz\n",
      "73\n",
      "74\n",
      "FizzBuzz\n",
      "76\n",
      "77\n",
      "Fizz\n",
      "79\n",
      "Buzz\n",
      "Fizz\n",
      "82\n",
      "83\n",
      "Fizz\n",
      "Buzz\n",
      "86\n",
      "Fizz\n",
      "88\n",
      "89\n",
      "FizzBuzz\n",
      "91\n",
      "92\n",
      "Fizz\n",
      "94\n",
      "Buzz\n",
      "Fizz\n",
      "97\n",
      "98\n",
      "Fizz\n",
      "Buzz\n"
     ]
    }
   ],
   "source": [
    "#Checks all the numbers within the range and sees if they are a multiple of 3 or 5 or both. \n",
    "#If they meet the criteria, they print out the corresponding values\n",
    "#We put the 3 AND 5 logic first because if it is divisible by both, we do not want to run the rest of the logic\n",
    "for number in range(1, 101):\n",
    "    if number % 3 == 0 and number % 5 == 0:\n",
    "        print('FizzBuzz')\n",
    "    elif number % 3 == 0:\n",
    "        print('Fizz')\n",
    "    elif number % 5 == 0:\n",
    "        print('Buzz')\n",
    "    else:\n",
    "        print(number)"
   ]
  },
  {
   "cell_type": "markdown",
   "metadata": {},
   "source": []
  }
 ],
 "metadata": {
  "anaconda-cloud": {},
  "kernelspec": {
   "display_name": "Python 3",
   "language": "python",
   "name": "python3"
  },
  "language_info": {
   "codemirror_mode": {
    "name": "ipython",
    "version": 3
   },
   "file_extension": ".py",
   "mimetype": "text/x-python",
   "name": "python",
   "nbconvert_exporter": "python",
   "pygments_lexer": "ipython3",
   "version": "3.6.5"
  }
 },
 "nbformat": 4,
 "nbformat_minor": 2
}
